{
 "cells": [
  {
   "cell_type": "markdown",
   "id": "b5450c2f",
   "metadata": {},
   "source": [
    "## 步骤 1 - 安装所需的 Python 环境及包"
   ]
  },
  {
   "cell_type": "code",
   "execution_count": 5,
   "id": "a024434d",
   "metadata": {},
   "outputs": [
    {
     "name": "stdout",
     "output_type": "stream",
     "text": [
      "Defaulting to user installation because normal site-packages is not writeable\n",
      "Collecting zeno-client\n",
      "  Obtaining dependency information for zeno-client from https://files.pythonhosted.org/packages/58/e7/8b9d88e34952f666f7f8a5f7a0dffaa00de68af849721c463eaf6c424ece/zeno_client-0.1.16-py3-none-any.whl.metadata\n",
      "  Downloading zeno_client-0.1.16-py3-none-any.whl.metadata (2.1 kB)\n",
      "Collecting arrow-json<0.10.0,>=0.9.0 (from zeno-client)\n",
      "  Obtaining dependency information for arrow-json<0.10.0,>=0.9.0 from https://files.pythonhosted.org/packages/32/bb/399d01107d0875b65b96c67c56fb081d5f4beae88f5ca89951e4cbbaa8c4/arrow_json-0.9.0-cp37-abi3-win_amd64.whl.metadata\n",
      "  Downloading arrow_json-0.9.0-cp37-abi3-win_amd64.whl.metadata (1.6 kB)\n",
      "Collecting outdated>=0.2.0 (from zeno-client)\n",
      "  Obtaining dependency information for outdated>=0.2.0 from https://files.pythonhosted.org/packages/d3/04/7d2b9a0d1b81e30f39e6f358bac01f4f18b585f35b0ffc5c83fc274f146b/outdated-0.2.2-py2.py3-none-any.whl.metadata\n",
      "  Downloading outdated-0.2.2-py2.py3-none-any.whl.metadata (4.7 kB)\n",
      "Requirement already satisfied: pandas>=1.4.3 in c:\\programdata\\anaconda3\\lib\\site-packages (from zeno-client) (2.1.1)\n",
      "Requirement already satisfied: pyarrow>=6.0.0 in c:\\programdata\\anaconda3\\lib\\site-packages (from zeno-client) (11.0.0)\n",
      "Requirement already satisfied: pydantic>=1.0 in c:\\programdata\\anaconda3\\lib\\site-packages (from zeno-client) (1.10.12)\n",
      "Requirement already satisfied: requests>=2.20.0 in c:\\programdata\\anaconda3\\lib\\site-packages (from zeno-client) (2.31.0)\n",
      "Requirement already satisfied: tqdm>=4.1.0 in c:\\programdata\\anaconda3\\lib\\site-packages (from zeno-client) (4.65.0)\n",
      "Requirement already satisfied: setuptools>=44 in c:\\programdata\\anaconda3\\lib\\site-packages (from outdated>=0.2.0->zeno-client) (68.0.0)\n",
      "Collecting littleutils (from outdated>=0.2.0->zeno-client)\n",
      "  Obtaining dependency information for littleutils from https://files.pythonhosted.org/packages/19/ac/a89d28d7421fffc028d68cdfde5e3e056e690cb4b1bbef4a5fea661e16f5/littleutils-0.2.4-py3-none-any.whl.metadata\n",
      "  Downloading littleutils-0.2.4-py3-none-any.whl.metadata (679 bytes)\n",
      "Requirement already satisfied: numpy>=1.23.2 in c:\\programdata\\anaconda3\\lib\\site-packages (from pandas>=1.4.3->zeno-client) (1.26.2)\n",
      "Requirement already satisfied: python-dateutil>=2.8.2 in c:\\programdata\\anaconda3\\lib\\site-packages (from pandas>=1.4.3->zeno-client) (2.8.2)\n",
      "Requirement already satisfied: pytz>=2020.1 in c:\\programdata\\anaconda3\\lib\\site-packages (from pandas>=1.4.3->zeno-client) (2023.3.post1)\n",
      "Requirement already satisfied: tzdata>=2022.1 in c:\\programdata\\anaconda3\\lib\\site-packages (from pandas>=1.4.3->zeno-client) (2023.3)\n",
      "Requirement already satisfied: typing-extensions>=4.2.0 in c:\\programdata\\anaconda3\\lib\\site-packages (from pydantic>=1.0->zeno-client) (4.7.1)\n",
      "Requirement already satisfied: charset-normalizer<4,>=2 in c:\\programdata\\anaconda3\\lib\\site-packages (from requests>=2.20.0->zeno-client) (2.0.4)\n",
      "Requirement already satisfied: idna<4,>=2.5 in c:\\programdata\\anaconda3\\lib\\site-packages (from requests>=2.20.0->zeno-client) (3.4)\n",
      "Requirement already satisfied: urllib3<3,>=1.21.1 in c:\\programdata\\anaconda3\\lib\\site-packages (from requests>=2.20.0->zeno-client) (1.26.18)\n",
      "Requirement already satisfied: certifi>=2017.4.17 in c:\\programdata\\anaconda3\\lib\\site-packages (from requests>=2.20.0->zeno-client) (2023.11.17)\n",
      "Requirement already satisfied: colorama in c:\\programdata\\anaconda3\\lib\\site-packages (from tqdm>=4.1.0->zeno-client) (0.4.6)\n",
      "Requirement already satisfied: six>=1.5 in c:\\programdata\\anaconda3\\lib\\site-packages (from python-dateutil>=2.8.2->pandas>=1.4.3->zeno-client) (1.16.0)\n",
      "Downloading zeno_client-0.1.16-py3-none-any.whl (7.3 kB)\n",
      "Downloading arrow_json-0.9.0-cp37-abi3-win_amd64.whl (1.3 MB)\n",
      "   ---------------------------------------- 0.0/1.3 MB ? eta -:--:--\n",
      "    --------------------------------------- 0.0/1.3 MB 1.3 MB/s eta 0:00:02\n",
      "   -- ------------------------------------- 0.1/1.3 MB 1.3 MB/s eta 0:00:01\n",
      "   ------- -------------------------------- 0.2/1.3 MB 2.0 MB/s eta 0:00:01\n",
      "   ------------------- -------------------- 0.6/1.3 MB 4.0 MB/s eta 0:00:01\n",
      "   ---------------------------------------  1.3/1.3 MB 6.4 MB/s eta 0:00:01\n",
      "   ---------------------------------------- 1.3/1.3 MB 6.0 MB/s eta 0:00:00\n",
      "Downloading outdated-0.2.2-py2.py3-none-any.whl (7.5 kB)\n",
      "Downloading littleutils-0.2.4-py3-none-any.whl (8.1 kB)\n",
      "Installing collected packages: littleutils, outdated, arrow-json, zeno-client\n",
      "Successfully installed arrow-json-0.9.0 littleutils-0.2.4 outdated-0.2.2 zeno-client-0.1.16\n",
      "Note: you may need to restart the kernel to use updated packages.\n"
     ]
    }
   ],
   "source": [
    "%pip install zeno-client"
   ]
  },
  {
   "cell_type": "markdown",
   "id": "ad92d6a2",
   "metadata": {},
   "source": [
    "## 步骤 2 - 初步读入并清洗数据"
   ]
  },
  {
   "cell_type": "code",
   "execution_count": 1,
   "id": "038ba23a",
   "metadata": {},
   "outputs": [
    {
     "data": {
      "text/html": [
       "<div>\n",
       "<style scoped>\n",
       "    .dataframe tbody tr th:only-of-type {\n",
       "        vertical-align: middle;\n",
       "    }\n",
       "\n",
       "    .dataframe tbody tr th {\n",
       "        vertical-align: top;\n",
       "    }\n",
       "\n",
       "    .dataframe thead th {\n",
       "        text-align: right;\n",
       "    }\n",
       "</style>\n",
       "<table border=\"1\" class=\"dataframe\">\n",
       "  <thead>\n",
       "    <tr style=\"text-align: right;\">\n",
       "      <th></th>\n",
       "      <th>text</th>\n",
       "      <th>label</th>\n",
       "      <th>roberta</th>\n",
       "      <th>roberta_score</th>\n",
       "      <th>gpt2</th>\n",
       "      <th>gpt2_score</th>\n",
       "    </tr>\n",
       "  </thead>\n",
       "  <tbody>\n",
       "    <tr>\n",
       "      <th>0</th>\n",
       "      <td>@user @user what do these '1/2 naked pics' hav...</td>\n",
       "      <td>neutral</td>\n",
       "      <td>0</td>\n",
       "      <td>0.8047260642051697</td>\n",
       "      <td>LABEL_2</td>\n",
       "      <td>0.9134505987167358</td>\n",
       "    </tr>\n",
       "    <tr>\n",
       "      <th>1</th>\n",
       "      <td>OH: âI had a blue penis while I was thisâ?[...</td>\n",
       "      <td>neutral</td>\n",
       "      <td>1</td>\n",
       "      <td>0.8669487237930298</td>\n",
       "      <td>LABEL_1</td>\n",
       "      <td>0.7534046173095703</td>\n",
       "    </tr>\n",
       "    <tr>\n",
       "      <th>2</th>\n",
       "      <td>@user @user That's coming, but I think the vic...</td>\n",
       "      <td>neutral</td>\n",
       "      <td>1</td>\n",
       "      <td>0.7637239098548889</td>\n",
       "      <td>LABEL_2</td>\n",
       "      <td>0.9999619722366333</td>\n",
       "    </tr>\n",
       "    <tr>\n",
       "      <th>3</th>\n",
       "      <td>I think I may be finally in with the in crowd ...</td>\n",
       "      <td>positive</td>\n",
       "      <td>2</td>\n",
       "      <td>0.7740470767021179</td>\n",
       "      <td>LABEL_2</td>\n",
       "      <td>0.8987836837768555</td>\n",
       "    </tr>\n",
       "    <tr>\n",
       "      <th>4</th>\n",
       "      <td>@user Wow,first Hugo Chavez and now Fidel Cast...</td>\n",
       "      <td>negative</td>\n",
       "      <td>1</td>\n",
       "      <td>0.41639748215675354</td>\n",
       "      <td>LABEL_2</td>\n",
       "      <td>0.9864314198493958</td>\n",
       "    </tr>\n",
       "  </tbody>\n",
       "</table>\n",
       "</div>"
      ],
      "text/plain": [
       "                                                text     label roberta  \\\n",
       "0  @user @user what do these '1/2 naked pics' hav...   neutral       0   \n",
       "1  OH: âI had a blue penis while I was thisâ?[...   neutral       1   \n",
       "2  @user @user That's coming, but I think the vic...   neutral       1   \n",
       "3  I think I may be finally in with the in crowd ...  positive       2   \n",
       "4  @user Wow,first Hugo Chavez and now Fidel Cast...  negative       1   \n",
       "\n",
       "         roberta_score     gpt2          gpt2_score  \n",
       "0   0.8047260642051697  LABEL_2  0.9134505987167358  \n",
       "1   0.8669487237930298  LABEL_1  0.7534046173095703  \n",
       "2   0.7637239098548889  LABEL_2  0.9999619722366333  \n",
       "3   0.7740470767021179  LABEL_2  0.8987836837768555  \n",
       "4  0.41639748215675354  LABEL_2  0.9864314198493958  "
      ]
     },
     "execution_count": 1,
     "metadata": {},
     "output_type": "execute_result"
    }
   ],
   "source": [
    "import pandas as pd\n",
    "\n",
    "df = pd.read_csv(\"../tweets.csv\")\n",
    "df.head(5)"
   ]
  },
  {
   "cell_type": "markdown",
   "id": "56079382",
   "metadata": {},
   "source": [
    "我们可以发现，Roberta 使用 0/1/2 来分别代表 negative/neutral/positive，而 gpt2 使用 LABEL_0/1/2 来代表 negative/neutral/positive。为了方便后续处理，我们需要进行清理。"
   ]
  },
  {
   "cell_type": "code",
   "execution_count": 3,
   "id": "43d75b48",
   "metadata": {},
   "outputs": [
    {
     "data": {
      "text/html": [
       "<div>\n",
       "<style scoped>\n",
       "    .dataframe tbody tr th:only-of-type {\n",
       "        vertical-align: middle;\n",
       "    }\n",
       "\n",
       "    .dataframe tbody tr th {\n",
       "        vertical-align: top;\n",
       "    }\n",
       "\n",
       "    .dataframe thead th {\n",
       "        text-align: right;\n",
       "    }\n",
       "</style>\n",
       "<table border=\"1\" class=\"dataframe\">\n",
       "  <thead>\n",
       "    <tr style=\"text-align: right;\">\n",
       "      <th></th>\n",
       "      <th>text</th>\n",
       "      <th>label</th>\n",
       "      <th>roberta</th>\n",
       "      <th>roberta_score</th>\n",
       "      <th>gpt2</th>\n",
       "      <th>gpt2_score</th>\n",
       "    </tr>\n",
       "  </thead>\n",
       "  <tbody>\n",
       "    <tr>\n",
       "      <th>0</th>\n",
       "      <td>@user @user what do these '1/2 naked pics' hav...</td>\n",
       "      <td>neutral</td>\n",
       "      <td>negative</td>\n",
       "      <td>0.8047260642051697</td>\n",
       "      <td>positive</td>\n",
       "      <td>0.9134505987167358</td>\n",
       "    </tr>\n",
       "    <tr>\n",
       "      <th>1</th>\n",
       "      <td>OH: âI had a blue penis while I was thisâ?[...</td>\n",
       "      <td>neutral</td>\n",
       "      <td>neutral</td>\n",
       "      <td>0.8669487237930298</td>\n",
       "      <td>neutral</td>\n",
       "      <td>0.7534046173095703</td>\n",
       "    </tr>\n",
       "    <tr>\n",
       "      <th>2</th>\n",
       "      <td>@user @user That's coming, but I think the vic...</td>\n",
       "      <td>neutral</td>\n",
       "      <td>neutral</td>\n",
       "      <td>0.7637239098548889</td>\n",
       "      <td>positive</td>\n",
       "      <td>0.9999619722366333</td>\n",
       "    </tr>\n",
       "    <tr>\n",
       "      <th>3</th>\n",
       "      <td>I think I may be finally in with the in crowd ...</td>\n",
       "      <td>positive</td>\n",
       "      <td>positive</td>\n",
       "      <td>0.7740470767021179</td>\n",
       "      <td>positive</td>\n",
       "      <td>0.8987836837768555</td>\n",
       "    </tr>\n",
       "    <tr>\n",
       "      <th>4</th>\n",
       "      <td>@user Wow,first Hugo Chavez and now Fidel Cast...</td>\n",
       "      <td>negative</td>\n",
       "      <td>neutral</td>\n",
       "      <td>0.41639748215675354</td>\n",
       "      <td>positive</td>\n",
       "      <td>0.9864314198493958</td>\n",
       "    </tr>\n",
       "  </tbody>\n",
       "</table>\n",
       "</div>"
      ],
      "text/plain": [
       "                                                text     label   roberta  \\\n",
       "0  @user @user what do these '1/2 naked pics' hav...   neutral  negative   \n",
       "1  OH: âI had a blue penis while I was thisâ?[...   neutral   neutral   \n",
       "2  @user @user That's coming, but I think the vic...   neutral   neutral   \n",
       "3  I think I may be finally in with the in crowd ...  positive  positive   \n",
       "4  @user Wow,first Hugo Chavez and now Fidel Cast...  negative   neutral   \n",
       "\n",
       "         roberta_score      gpt2          gpt2_score  \n",
       "0   0.8047260642051697  positive  0.9134505987167358  \n",
       "1   0.8669487237930298   neutral  0.7534046173095703  \n",
       "2   0.7637239098548889  positive  0.9999619722366333  \n",
       "3   0.7740470767021179  positive  0.8987836837768555  \n",
       "4  0.41639748215675354  positive  0.9864314198493958  "
      ]
     },
     "execution_count": 3,
     "metadata": {},
     "output_type": "execute_result"
    }
   ],
   "source": [
    "def label_map_gpt2(x):\n",
    "    mapping = {\n",
    "        'LABEL_0': 'negative',\n",
    "        'LABEL_1': 'neutral',\n",
    "        'LABEL_2': 'positive'\n",
    "    }\n",
    "    return mapping.get(x, x)\n",
    "    \n",
    "def label_map_roberta(x):\n",
    "    mapping = {\n",
    "        '0': 'negative',\n",
    "        '1': 'neutral',\n",
    "        '2': 'positive'\n",
    "    }\n",
    "    return mapping.get(x, x)\n",
    "\n",
    "df['gpt2'] = df['gpt2'].map(label_map_gpt2)\n",
    "df['roberta'] = df['roberta'].map(label_map_roberta)\n",
    "df.head(5)"
   ]
  },
  {
   "cell_type": "markdown",
   "id": "e0cce6cf",
   "metadata": {},
   "source": [
    "Zeno 处理要求我们增加 input_length 列与 id 列，对数据进行进一步处理"
   ]
  },
  {
   "cell_type": "code",
   "execution_count": 4,
   "id": "78e22ca0",
   "metadata": {},
   "outputs": [
    {
     "data": {
      "text/html": [
       "<div>\n",
       "<style scoped>\n",
       "    .dataframe tbody tr th:only-of-type {\n",
       "        vertical-align: middle;\n",
       "    }\n",
       "\n",
       "    .dataframe tbody tr th {\n",
       "        vertical-align: top;\n",
       "    }\n",
       "\n",
       "    .dataframe thead th {\n",
       "        text-align: right;\n",
       "    }\n",
       "</style>\n",
       "<table border=\"1\" class=\"dataframe\">\n",
       "  <thead>\n",
       "    <tr style=\"text-align: right;\">\n",
       "      <th></th>\n",
       "      <th>text</th>\n",
       "      <th>label</th>\n",
       "      <th>roberta</th>\n",
       "      <th>roberta_score</th>\n",
       "      <th>gpt2</th>\n",
       "      <th>gpt2_score</th>\n",
       "      <th>input_length</th>\n",
       "      <th>id</th>\n",
       "    </tr>\n",
       "  </thead>\n",
       "  <tbody>\n",
       "    <tr>\n",
       "      <th>0</th>\n",
       "      <td>@user @user what do these '1/2 naked pics' hav...</td>\n",
       "      <td>neutral</td>\n",
       "      <td>negative</td>\n",
       "      <td>0.8047260642051697</td>\n",
       "      <td>positive</td>\n",
       "      <td>0.9134505987167358</td>\n",
       "      <td>96</td>\n",
       "      <td>0</td>\n",
       "    </tr>\n",
       "    <tr>\n",
       "      <th>1</th>\n",
       "      <td>OH: âI had a blue penis while I was thisâ?[...</td>\n",
       "      <td>neutral</td>\n",
       "      <td>neutral</td>\n",
       "      <td>0.8669487237930298</td>\n",
       "      <td>neutral</td>\n",
       "      <td>0.7534046173095703</td>\n",
       "      <td>75</td>\n",
       "      <td>1</td>\n",
       "    </tr>\n",
       "    <tr>\n",
       "      <th>2</th>\n",
       "      <td>@user @user That's coming, but I think the vic...</td>\n",
       "      <td>neutral</td>\n",
       "      <td>neutral</td>\n",
       "      <td>0.7637239098548889</td>\n",
       "      <td>positive</td>\n",
       "      <td>0.9999619722366333</td>\n",
       "      <td>87</td>\n",
       "      <td>2</td>\n",
       "    </tr>\n",
       "    <tr>\n",
       "      <th>3</th>\n",
       "      <td>I think I may be finally in with the in crowd ...</td>\n",
       "      <td>positive</td>\n",
       "      <td>positive</td>\n",
       "      <td>0.7740470767021179</td>\n",
       "      <td>positive</td>\n",
       "      <td>0.8987836837768555</td>\n",
       "      <td>83</td>\n",
       "      <td>3</td>\n",
       "    </tr>\n",
       "    <tr>\n",
       "      <th>4</th>\n",
       "      <td>@user Wow,first Hugo Chavez and now Fidel Cast...</td>\n",
       "      <td>negative</td>\n",
       "      <td>neutral</td>\n",
       "      <td>0.41639748215675354</td>\n",
       "      <td>positive</td>\n",
       "      <td>0.9864314198493958</td>\n",
       "      <td>133</td>\n",
       "      <td>4</td>\n",
       "    </tr>\n",
       "  </tbody>\n",
       "</table>\n",
       "</div>"
      ],
      "text/plain": [
       "                                                text     label   roberta  \\\n",
       "0  @user @user what do these '1/2 naked pics' hav...   neutral  negative   \n",
       "1  OH: âI had a blue penis while I was thisâ?[...   neutral   neutral   \n",
       "2  @user @user That's coming, but I think the vic...   neutral   neutral   \n",
       "3  I think I may be finally in with the in crowd ...  positive  positive   \n",
       "4  @user Wow,first Hugo Chavez and now Fidel Cast...  negative   neutral   \n",
       "\n",
       "         roberta_score      gpt2          gpt2_score  input_length  id  \n",
       "0   0.8047260642051697  positive  0.9134505987167358            96   0  \n",
       "1   0.8669487237930298   neutral  0.7534046173095703            75   1  \n",
       "2   0.7637239098548889  positive  0.9999619722366333            87   2  \n",
       "3   0.7740470767021179  positive  0.8987836837768555            83   3  \n",
       "4  0.41639748215675354  positive  0.9864314198493958           133   4  "
      ]
     },
     "execution_count": 4,
     "metadata": {},
     "output_type": "execute_result"
    }
   ],
   "source": [
    "df[\"input_length\"] = df[\"text\"].str.len()\n",
    "df['id'] = df.index\n",
    "df.head(5)"
   ]
  },
  {
   "cell_type": "markdown",
   "id": "5ce485ee",
   "metadata": {},
   "source": [
    "## 步骤 3 - 启动 Zeno 进行模型分析"
   ]
  },
  {
   "cell_type": "markdown",
   "id": "89511417",
   "metadata": {},
   "source": [
    "创建一个 [Zeno](https://hub.zenoml.com/account) 账号，阅读如下代码并正确运行，运行完成后你将在个人账户下看到创建的 projects"
   ]
  },
  {
   "cell_type": "code",
   "execution_count": 8,
   "id": "9e43f0fe",
   "metadata": {},
   "outputs": [
    {
     "name": "stdout",
     "output_type": "stream",
     "text": [
      "Successfully updated project.\n",
      "Access your project at  https://hub.zenoml.com/project/afc83340-3282-4106-8676-46720648a5dc/Twitter%20Sentiment%20Analysis\n"
     ]
    },
    {
     "name": "stderr",
     "output_type": "stream",
     "text": [
      "c:\\ProgramData\\anaconda3\\Lib\\site-packages\\pyarrow\\pandas_compat.py:373: FutureWarning: is_sparse is deprecated and will be removed in a future version. Check `isinstance(dtype, pd.SparseDtype)` instead.\n",
      "  if _pandas_api.is_sparse(col):\n"
     ]
    },
    {
     "data": {
      "application/vnd.jupyter.widget-view+json": {
       "model_id": "8b58027a33b44858860cc85b69be1f26",
       "version_major": 2,
       "version_minor": 0
      },
      "text/plain": [
       "  0%|          | 0/1 [00:00<?, ?it/s]"
      ]
     },
     "metadata": {},
     "output_type": "display_data"
    },
    {
     "name": "stdout",
     "output_type": "stream",
     "text": [
      "Successfully uploaded data\n"
     ]
    },
    {
     "name": "stderr",
     "output_type": "stream",
     "text": [
      "c:\\ProgramData\\anaconda3\\Lib\\site-packages\\pyarrow\\pandas_compat.py:373: FutureWarning: is_sparse is deprecated and will be removed in a future version. Check `isinstance(dtype, pd.SparseDtype)` instead.\n",
      "  if _pandas_api.is_sparse(col):\n"
     ]
    },
    {
     "data": {
      "application/vnd.jupyter.widget-view+json": {
       "model_id": "6816951d8e844200b6a40ac250f4cf0e",
       "version_major": 2,
       "version_minor": 0
      },
      "text/plain": [
       "  0%|          | 0/1 [00:00<?, ?it/s]"
      ]
     },
     "metadata": {},
     "output_type": "display_data"
    },
    {
     "name": "stdout",
     "output_type": "stream",
     "text": [
      "Successfully uploaded system\n"
     ]
    },
    {
     "name": "stderr",
     "output_type": "stream",
     "text": [
      "c:\\ProgramData\\anaconda3\\Lib\\site-packages\\pyarrow\\pandas_compat.py:373: FutureWarning: is_sparse is deprecated and will be removed in a future version. Check `isinstance(dtype, pd.SparseDtype)` instead.\n",
      "  if _pandas_api.is_sparse(col):\n"
     ]
    },
    {
     "data": {
      "application/vnd.jupyter.widget-view+json": {
       "model_id": "41bcfa75de5c49ff91dc497234c7990c",
       "version_major": 2,
       "version_minor": 0
      },
      "text/plain": [
       "  0%|          | 0/1 [00:00<?, ?it/s]"
      ]
     },
     "metadata": {},
     "output_type": "display_data"
    },
    {
     "name": "stdout",
     "output_type": "stream",
     "text": [
      "Successfully uploaded system\n"
     ]
    }
   ],
   "source": [
    "from zeno_client import ZenoClient, ZenoMetric\n",
    "import pandas as pd\n",
    "\n",
    "client = ZenoClient(\"zen_J0GSV_bT1M9EvgRkrtE0L5ZmsX782nvFu_GrjE0ueuk\")\n",
    "\n",
    "# 创建项目\n",
    "proj = client.create_project(\n",
    "    name=\"Twitter Sentiment Analysis\",\n",
    "    view=\"text-classification\",\n",
    "    metrics=[\n",
    "        ZenoMetric(name=\"roberta_accuracy\", type=\"mean\", columns=[\"roberta_correct\"]),\n",
    "        #TODO 类比上述方法，为 gpt2 模型创建相应的评估指标\n",
    "        ZenoMetric(name=\"gpt2_accuracy\", type=\"mean\", columns=[\"gpt2_correct\"])\n",
    "    ]\n",
    ")\n",
    "\n",
    "proj.upload_dataset(df, id_column=\"id\", data_column='text', label_column=\"label\")\n",
    "\n",
    "# 为 Roberta 模型分别创建系统数据框\n",
    "df_roberta = pd.DataFrame({\n",
    "    \"id\": df[\"id\"],\n",
    "    \"output\": df[\"roberta\"],\n",
    "    \"roberta_correct\": (df[\"roberta\"] == df[\"label\"]).astype(int)\n",
    "})\n",
    "proj.upload_system(df_roberta, name=\"Roberta\", id_column=\"id\", output_column=\"output\")\n",
    "#TODO 类比上述方法，为 gpt2 模型创建系统数据框\n",
    "df_gpt2 = pd.DataFrame({\n",
    "    \"id\": df[\"id\"],\n",
    "    \"output\": df[\"gpt2\"],\n",
    "    \"gpt2_correct\": (df[\"gpt2\"] == df[\"label\"]).astype(int)\n",
    "})\n",
    "proj.upload_system(df_gpt2, name=\"GPT-2\", id_column=\"id\", output_column=\"output\")\n"
   ]
  },
  {
   "cell_type": "markdown",
   "id": "468a7539",
   "metadata": {},
   "source": [
    "## 步骤 4 - 创建分析切片并进一步分析"
   ]
  },
  {
   "cell_type": "markdown",
   "id": "78ea7993",
   "metadata": {},
   "source": [
    "你一共需要利用 Zeno 提供的接口创建 5 个不同的切片。\n",
    "\n",
    "你可以首先创建两个切片：\n",
    "\n",
    "1. 有标签的推文（含有\"#\"）\n",
    "2. 有强烈正向情感的词语（如 love），你可以自行决定一个词"
   ]
  },
  {
   "cell_type": "markdown",
   "id": "359272de",
   "metadata": {},
   "source": [
    "创建切片可以直接通过点击 \"+\" 按钮来进行，可以通过基本值匹配或正则表达式的方式创建，具体用法参见[文档](https://zenoml.com/docs/intro/)\n",
    "\n",
    "![image.png](../images/image.png)\n",
    "\n",
    "有关 Zeno 中更多有趣的用法可以参考 Zeno 仓库中的 [README](https://github.com/zeno-ml/zeno)。"
   ]
  },
  {
   "cell_type": "markdown",
   "id": "f3cdec4b",
   "metadata": {},
   "source": [
    "在此处写下你想要另外创建的三个切片，并在个人 Zeno 账户中创建，针对每一个创建的切片，用一两句话总结模型在其上的表现特点：\n",
    "\n",
    "3. 否定词 gpt表现变差(0.35 to 0.29) roberta表现几乎不变(0.67 to 0.66)\n",
    "4. 转折词 gpt表现略好(0.35 to 0.37) roberta表现略好(0.67 to 0.70)\n",
    "5. 疑问词 gpt表现变差(0.35 to 0.25) roberta表现几乎不变(0.67 to 0.65)"
   ]
  },
  {
   "cell_type": "markdown",
   "id": "1f7b8cda",
   "metadata": {},
   "source": [
    "## 提交：\n",
    "1. 本 notebook，保留你书写的代码与输出结果\n",
    "2. 一张截图，显示你创建的 5 个切片"
   ]
  }
 ],
 "metadata": {
  "kernelspec": {
   "display_name": "base",
   "language": "python",
   "name": "python3"
  },
  "language_info": {
   "codemirror_mode": {
    "name": "ipython",
    "version": 3
   },
   "file_extension": ".py",
   "mimetype": "text/x-python",
   "name": "python",
   "nbconvert_exporter": "python",
   "pygments_lexer": "ipython3",
   "version": "3.11.5"
  }
 },
 "nbformat": 4,
 "nbformat_minor": 5
}
