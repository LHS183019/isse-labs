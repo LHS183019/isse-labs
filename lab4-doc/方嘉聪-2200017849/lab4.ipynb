{
 "cells": [
  {
   "cell_type": "markdown",
   "id": "b5450c2f",
   "metadata": {},
   "source": [
    "## 步骤 1 - 安装所需的 Python 环境及包"
   ]
  },
  {
   "cell_type": "markdown",
   "id": "ad92d6a2",
   "metadata": {},
   "source": [
    "## 步骤 2 - 初步读入并清洗数据"
   ]
  },
  {
   "cell_type": "code",
   "execution_count": 1,
   "id": "038ba23a",
   "metadata": {},
   "outputs": [
    {
     "data": {
      "text/html": [
       "<div>\n",
       "<style scoped>\n",
       "    .dataframe tbody tr th:only-of-type {\n",
       "        vertical-align: middle;\n",
       "    }\n",
       "\n",
       "    .dataframe tbody tr th {\n",
       "        vertical-align: top;\n",
       "    }\n",
       "\n",
       "    .dataframe thead th {\n",
       "        text-align: right;\n",
       "    }\n",
       "</style>\n",
       "<table border=\"1\" class=\"dataframe\">\n",
       "  <thead>\n",
       "    <tr style=\"text-align: right;\">\n",
       "      <th></th>\n",
       "      <th>text</th>\n",
       "      <th>label</th>\n",
       "      <th>roberta</th>\n",
       "      <th>roberta_score</th>\n",
       "      <th>gpt2</th>\n",
       "      <th>gpt2_score</th>\n",
       "    </tr>\n",
       "  </thead>\n",
       "  <tbody>\n",
       "    <tr>\n",
       "      <th>0</th>\n",
       "      <td>@user @user what do these '1/2 naked pics' hav...</td>\n",
       "      <td>neutral</td>\n",
       "      <td>0</td>\n",
       "      <td>0.8047260642051697</td>\n",
       "      <td>LABEL_2</td>\n",
       "      <td>0.9134505987167358</td>\n",
       "    </tr>\n",
       "    <tr>\n",
       "      <th>1</th>\n",
       "      <td>OH: âI had a blue penis while I was thisâ?[...</td>\n",
       "      <td>neutral</td>\n",
       "      <td>1</td>\n",
       "      <td>0.8669487237930298</td>\n",
       "      <td>LABEL_1</td>\n",
       "      <td>0.7534046173095703</td>\n",
       "    </tr>\n",
       "    <tr>\n",
       "      <th>2</th>\n",
       "      <td>@user @user That's coming, but I think the vic...</td>\n",
       "      <td>neutral</td>\n",
       "      <td>1</td>\n",
       "      <td>0.7637239098548889</td>\n",
       "      <td>LABEL_2</td>\n",
       "      <td>0.9999619722366333</td>\n",
       "    </tr>\n",
       "    <tr>\n",
       "      <th>3</th>\n",
       "      <td>I think I may be finally in with the in crowd ...</td>\n",
       "      <td>positive</td>\n",
       "      <td>2</td>\n",
       "      <td>0.7740470767021179</td>\n",
       "      <td>LABEL_2</td>\n",
       "      <td>0.8987836837768555</td>\n",
       "    </tr>\n",
       "    <tr>\n",
       "      <th>4</th>\n",
       "      <td>@user Wow,first Hugo Chavez and now Fidel Cast...</td>\n",
       "      <td>negative</td>\n",
       "      <td>1</td>\n",
       "      <td>0.41639748215675354</td>\n",
       "      <td>LABEL_2</td>\n",
       "      <td>0.9864314198493958</td>\n",
       "    </tr>\n",
       "  </tbody>\n",
       "</table>\n",
       "</div>"
      ],
      "text/plain": [
       "                                                text     label roberta  \\\n",
       "0  @user @user what do these '1/2 naked pics' hav...   neutral       0   \n",
       "1  OH: âI had a blue penis while I was thisâ?[...   neutral       1   \n",
       "2  @user @user That's coming, but I think the vic...   neutral       1   \n",
       "3  I think I may be finally in with the in crowd ...  positive       2   \n",
       "4  @user Wow,first Hugo Chavez and now Fidel Cast...  negative       1   \n",
       "\n",
       "         roberta_score     gpt2          gpt2_score  \n",
       "0   0.8047260642051697  LABEL_2  0.9134505987167358  \n",
       "1   0.8669487237930298  LABEL_1  0.7534046173095703  \n",
       "2   0.7637239098548889  LABEL_2  0.9999619722366333  \n",
       "3   0.7740470767021179  LABEL_2  0.8987836837768555  \n",
       "4  0.41639748215675354  LABEL_2  0.9864314198493958  "
      ]
     },
     "execution_count": 1,
     "metadata": {},
     "output_type": "execute_result"
    }
   ],
   "source": [
    "import pandas as pd\n",
    "\n",
    "df = pd.read_csv(\"../tweets.csv\")\n",
    "df.head(5)"
   ]
  },
  {
   "cell_type": "markdown",
   "id": "56079382",
   "metadata": {},
   "source": [
    "我们可以发现，Roberta 使用 0/1/2 来分别代表 negative/neutral/positive，而 gpt2 使用 LABEL_0/1/2 来代表 negative/neutral/positive。为了方便后续处理，我们需要进行清理。"
   ]
  },
  {
   "cell_type": "code",
   "execution_count": 2,
   "id": "43d75b48",
   "metadata": {},
   "outputs": [
    {
     "data": {
      "text/html": [
       "<div>\n",
       "<style scoped>\n",
       "    .dataframe tbody tr th:only-of-type {\n",
       "        vertical-align: middle;\n",
       "    }\n",
       "\n",
       "    .dataframe tbody tr th {\n",
       "        vertical-align: top;\n",
       "    }\n",
       "\n",
       "    .dataframe thead th {\n",
       "        text-align: right;\n",
       "    }\n",
       "</style>\n",
       "<table border=\"1\" class=\"dataframe\">\n",
       "  <thead>\n",
       "    <tr style=\"text-align: right;\">\n",
       "      <th></th>\n",
       "      <th>text</th>\n",
       "      <th>label</th>\n",
       "      <th>roberta</th>\n",
       "      <th>roberta_score</th>\n",
       "      <th>gpt2</th>\n",
       "      <th>gpt2_score</th>\n",
       "    </tr>\n",
       "  </thead>\n",
       "  <tbody>\n",
       "    <tr>\n",
       "      <th>0</th>\n",
       "      <td>@user @user what do these '1/2 naked pics' hav...</td>\n",
       "      <td>neutral</td>\n",
       "      <td>negative</td>\n",
       "      <td>0.8047260642051697</td>\n",
       "      <td>positive</td>\n",
       "      <td>0.9134505987167358</td>\n",
       "    </tr>\n",
       "    <tr>\n",
       "      <th>1</th>\n",
       "      <td>OH: âI had a blue penis while I was thisâ?[...</td>\n",
       "      <td>neutral</td>\n",
       "      <td>neutral</td>\n",
       "      <td>0.8669487237930298</td>\n",
       "      <td>neutral</td>\n",
       "      <td>0.7534046173095703</td>\n",
       "    </tr>\n",
       "    <tr>\n",
       "      <th>2</th>\n",
       "      <td>@user @user That's coming, but I think the vic...</td>\n",
       "      <td>neutral</td>\n",
       "      <td>neutral</td>\n",
       "      <td>0.7637239098548889</td>\n",
       "      <td>positive</td>\n",
       "      <td>0.9999619722366333</td>\n",
       "    </tr>\n",
       "    <tr>\n",
       "      <th>3</th>\n",
       "      <td>I think I may be finally in with the in crowd ...</td>\n",
       "      <td>positive</td>\n",
       "      <td>positive</td>\n",
       "      <td>0.7740470767021179</td>\n",
       "      <td>positive</td>\n",
       "      <td>0.8987836837768555</td>\n",
       "    </tr>\n",
       "    <tr>\n",
       "      <th>4</th>\n",
       "      <td>@user Wow,first Hugo Chavez and now Fidel Cast...</td>\n",
       "      <td>negative</td>\n",
       "      <td>neutral</td>\n",
       "      <td>0.41639748215675354</td>\n",
       "      <td>positive</td>\n",
       "      <td>0.9864314198493958</td>\n",
       "    </tr>\n",
       "  </tbody>\n",
       "</table>\n",
       "</div>"
      ],
      "text/plain": [
       "                                                text     label   roberta  \\\n",
       "0  @user @user what do these '1/2 naked pics' hav...   neutral  negative   \n",
       "1  OH: âI had a blue penis while I was thisâ?[...   neutral   neutral   \n",
       "2  @user @user That's coming, but I think the vic...   neutral   neutral   \n",
       "3  I think I may be finally in with the in crowd ...  positive  positive   \n",
       "4  @user Wow,first Hugo Chavez and now Fidel Cast...  negative   neutral   \n",
       "\n",
       "         roberta_score      gpt2          gpt2_score  \n",
       "0   0.8047260642051697  positive  0.9134505987167358  \n",
       "1   0.8669487237930298   neutral  0.7534046173095703  \n",
       "2   0.7637239098548889  positive  0.9999619722366333  \n",
       "3   0.7740470767021179  positive  0.8987836837768555  \n",
       "4  0.41639748215675354  positive  0.9864314198493958  "
      ]
     },
     "execution_count": 2,
     "metadata": {},
     "output_type": "execute_result"
    }
   ],
   "source": [
    "def label_map_gpt2(x):\n",
    "\tif x == \"LABEL_0\":\n",
    "\t\treturn \"negative\"\n",
    "\telif x == \"LABEL_1\":\n",
    "\t\treturn \"neutral\"\n",
    "\telif x == \"LABEL_2\":\n",
    "\t\treturn \"positive\"\n",
    "\telse:\t\t# illegal output, set to unknown\n",
    "\t\treturn \"unknown\"\n",
    "\n",
    "\t\n",
    "def label_map_roberta(x):\n",
    "\tif x == \"0\":\n",
    "\t\treturn \"negative\"\n",
    "\telif x == \"1\":\n",
    "\t\treturn \"neutral\"\n",
    "\telif x == \"2\":\n",
    "\t\treturn \"positive\"\n",
    "\telse:\t\t# illegal output, set to unknown\n",
    "\t\treturn \"unknown\"\n",
    "\n",
    "df['gpt2'] = df['gpt2'].map(label_map_gpt2)\n",
    "df['roberta'] = df['roberta'].map(label_map_roberta)\n",
    "df.head(5)"
   ]
  },
  {
   "cell_type": "markdown",
   "id": "e0cce6cf",
   "metadata": {},
   "source": [
    "Zeno 处理要求我们增加 input_length 列与 id 列，对数据进行进一步处理"
   ]
  },
  {
   "cell_type": "code",
   "execution_count": 3,
   "id": "78e22ca0",
   "metadata": {},
   "outputs": [
    {
     "data": {
      "text/html": [
       "<div>\n",
       "<style scoped>\n",
       "    .dataframe tbody tr th:only-of-type {\n",
       "        vertical-align: middle;\n",
       "    }\n",
       "\n",
       "    .dataframe tbody tr th {\n",
       "        vertical-align: top;\n",
       "    }\n",
       "\n",
       "    .dataframe thead th {\n",
       "        text-align: right;\n",
       "    }\n",
       "</style>\n",
       "<table border=\"1\" class=\"dataframe\">\n",
       "  <thead>\n",
       "    <tr style=\"text-align: right;\">\n",
       "      <th></th>\n",
       "      <th>text</th>\n",
       "      <th>label</th>\n",
       "      <th>roberta</th>\n",
       "      <th>roberta_score</th>\n",
       "      <th>gpt2</th>\n",
       "      <th>gpt2_score</th>\n",
       "      <th>input_length</th>\n",
       "      <th>id</th>\n",
       "    </tr>\n",
       "  </thead>\n",
       "  <tbody>\n",
       "    <tr>\n",
       "      <th>0</th>\n",
       "      <td>@user @user what do these '1/2 naked pics' hav...</td>\n",
       "      <td>neutral</td>\n",
       "      <td>negative</td>\n",
       "      <td>0.8047260642051697</td>\n",
       "      <td>positive</td>\n",
       "      <td>0.9134505987167358</td>\n",
       "      <td>96</td>\n",
       "      <td>0</td>\n",
       "    </tr>\n",
       "    <tr>\n",
       "      <th>1</th>\n",
       "      <td>OH: âI had a blue penis while I was thisâ?[...</td>\n",
       "      <td>neutral</td>\n",
       "      <td>neutral</td>\n",
       "      <td>0.8669487237930298</td>\n",
       "      <td>neutral</td>\n",
       "      <td>0.7534046173095703</td>\n",
       "      <td>75</td>\n",
       "      <td>1</td>\n",
       "    </tr>\n",
       "    <tr>\n",
       "      <th>2</th>\n",
       "      <td>@user @user That's coming, but I think the vic...</td>\n",
       "      <td>neutral</td>\n",
       "      <td>neutral</td>\n",
       "      <td>0.7637239098548889</td>\n",
       "      <td>positive</td>\n",
       "      <td>0.9999619722366333</td>\n",
       "      <td>87</td>\n",
       "      <td>2</td>\n",
       "    </tr>\n",
       "    <tr>\n",
       "      <th>3</th>\n",
       "      <td>I think I may be finally in with the in crowd ...</td>\n",
       "      <td>positive</td>\n",
       "      <td>positive</td>\n",
       "      <td>0.7740470767021179</td>\n",
       "      <td>positive</td>\n",
       "      <td>0.8987836837768555</td>\n",
       "      <td>83</td>\n",
       "      <td>3</td>\n",
       "    </tr>\n",
       "    <tr>\n",
       "      <th>4</th>\n",
       "      <td>@user Wow,first Hugo Chavez and now Fidel Cast...</td>\n",
       "      <td>negative</td>\n",
       "      <td>neutral</td>\n",
       "      <td>0.41639748215675354</td>\n",
       "      <td>positive</td>\n",
       "      <td>0.9864314198493958</td>\n",
       "      <td>133</td>\n",
       "      <td>4</td>\n",
       "    </tr>\n",
       "  </tbody>\n",
       "</table>\n",
       "</div>"
      ],
      "text/plain": [
       "                                                text     label   roberta  \\\n",
       "0  @user @user what do these '1/2 naked pics' hav...   neutral  negative   \n",
       "1  OH: âI had a blue penis while I was thisâ?[...   neutral   neutral   \n",
       "2  @user @user That's coming, but I think the vic...   neutral   neutral   \n",
       "3  I think I may be finally in with the in crowd ...  positive  positive   \n",
       "4  @user Wow,first Hugo Chavez and now Fidel Cast...  negative   neutral   \n",
       "\n",
       "         roberta_score      gpt2          gpt2_score  input_length  id  \n",
       "0   0.8047260642051697  positive  0.9134505987167358            96   0  \n",
       "1   0.8669487237930298   neutral  0.7534046173095703            75   1  \n",
       "2   0.7637239098548889  positive  0.9999619722366333            87   2  \n",
       "3   0.7740470767021179  positive  0.8987836837768555            83   3  \n",
       "4  0.41639748215675354  positive  0.9864314198493958           133   4  "
      ]
     },
     "execution_count": 3,
     "metadata": {},
     "output_type": "execute_result"
    }
   ],
   "source": [
    "df[\"input_length\"] = df[\"text\"].str.len()\n",
    "df['id'] = df.index\n",
    "df.head(5)"
   ]
  },
  {
   "cell_type": "markdown",
   "id": "5ce485ee",
   "metadata": {},
   "source": [
    "## 步骤 3 - 启动 Zeno 进行模型分析"
   ]
  },
  {
   "cell_type": "markdown",
   "id": "89511417",
   "metadata": {},
   "source": [
    "创建一个 [Zeno](https://hub.zenoml.com/account) 账号，阅读如下代码并正确运行，运行完成后你将在个人账户下看到创建的 projects"
   ]
  },
  {
   "cell_type": "code",
   "execution_count": 4,
   "id": "9e43f0fe",
   "metadata": {},
   "outputs": [
    {
     "name": "stdout",
     "output_type": "stream",
     "text": [
      "Successfully updated project.\n",
      "Access your project at  https://hub.zenoml.com/project/c9f17869-252d-420d-a678-b65738afae58/Twitter%20Sentiment%20Analysis\n"
     ]
    },
    {
     "data": {
      "application/vnd.jupyter.widget-view+json": {
       "model_id": "5ad27d5d6fb2499a82e6db55b828a2ca",
       "version_major": 2,
       "version_minor": 0
      },
      "text/plain": [
       "  0%|          | 0/1 [00:00<?, ?it/s]"
      ]
     },
     "metadata": {},
     "output_type": "display_data"
    },
    {
     "name": "stdout",
     "output_type": "stream",
     "text": [
      "Successfully uploaded data\n"
     ]
    },
    {
     "data": {
      "application/vnd.jupyter.widget-view+json": {
       "model_id": "e87063a735784dd4820f9895e67bdc09",
       "version_major": 2,
       "version_minor": 0
      },
      "text/plain": [
       "  0%|          | 0/1 [00:00<?, ?it/s]"
      ]
     },
     "metadata": {},
     "output_type": "display_data"
    },
    {
     "name": "stdout",
     "output_type": "stream",
     "text": [
      "Successfully uploaded system\n"
     ]
    },
    {
     "data": {
      "application/vnd.jupyter.widget-view+json": {
       "model_id": "0c79415cc16f496ab0b52dee936d7a22",
       "version_major": 2,
       "version_minor": 0
      },
      "text/plain": [
       "  0%|          | 0/1 [00:00<?, ?it/s]"
      ]
     },
     "metadata": {},
     "output_type": "display_data"
    },
    {
     "name": "stdout",
     "output_type": "stream",
     "text": [
      "Successfully uploaded system\n"
     ]
    }
   ],
   "source": [
    "from zeno_client import ZenoClient, ZenoMetric\n",
    "import pandas as pd\n",
    "\n",
    "# load API key from .env file\n",
    "import os\n",
    "from dotenv import load_dotenv\n",
    "load_dotenv(dotenv_path=\"./.env\")\n",
    "ZENO_API_KEY = os.getenv(\"ZENO_API_KEY\")\n",
    "\n",
    "client = ZenoClient(ZENO_API_KEY)\n",
    "\n",
    "# 创建项目\n",
    "proj = client.create_project(\n",
    "\tname=\"Twitter Sentiment Analysis\",\n",
    "\tview=\"text-classification\",\n",
    "\tmetrics=[\n",
    "\t\tZenoMetric(name=\"roberta_accuracy\", type=\"mean\", columns=[\"roberta_correct\"]),\n",
    "\t\tZenoMetric(name=\"gpt2_accuracy\", type=\"mean\", columns=[\"gpt2_correct\"]),\n",
    "\t]\n",
    ")\n",
    "\n",
    "df[\"id\"] = df[\"id\"].astype(str)\n",
    "proj.upload_dataset(df, id_column=\"id\", data_column='text', label_column=\"label\")\n",
    "\n",
    "# 为 Roberta 模型分别创建系统数据框\n",
    "df_roberta = pd.DataFrame({\n",
    "\t\"id\": df[\"id\"],\n",
    "\t\"output\": df[\"roberta\"],\n",
    "\t\"roberta_correct\": (df[\"roberta\"] == df[\"label\"]).astype(int)\n",
    "})\n",
    "df_roberta[\"id\"] = df_roberta[\"id\"].astype(str)\n",
    "proj.upload_system(df_roberta, name=\"Roberta\", id_column=\"id\", output_column=\"output\")\n",
    "\n",
    "\n",
    "# 为 GPT-2 模型分别创建系统数据框\n",
    "df_gpt2 = pd.DataFrame({\n",
    "\t\"id\": df[\"id\"],\n",
    "\t\"output\": df[\"gpt2\"],\n",
    "\t\"gpt2_correct\": (df[\"gpt2\"] == df[\"label\"]).astype(int)\n",
    "})\n",
    "df_gpt2[\"id\"] = df_gpt2[\"id\"].astype(str)\n",
    "proj.upload_system(df_gpt2, name=\"GPT-2\", id_column=\"id\", output_column=\"output\")"
   ]
  },
  {
   "cell_type": "markdown",
   "id": "468a7539",
   "metadata": {},
   "source": [
    "## 步骤 4 - 创建分析切片并进一步分析"
   ]
  },
  {
   "cell_type": "markdown",
   "id": "78ea7993",
   "metadata": {},
   "source": [
    "你一共需要利用 Zeno 提供的接口创建 5 个不同的切片。\n",
    "\n",
    "创建切片可以直接通过点击 \"+\" 按钮来进行，可以通过基本值匹配或正则表达式的方式创建，具体用法参见[文档](https://zenoml.com/docs/intro/)\n",
    "有关 Zeno 中更多有趣的用法可以参考 Zeno 仓库中的 [README](https://github.com/zeno-ml/zeno)。\n",
    "\n",
    "\n"
   ]
  },
  {
   "cell_type": "markdown",
   "id": "f3cdec4b",
   "metadata": {},
   "source": [
    "创建的五个切片如下 (在个人 Zeno 账户中创建，针对每一个创建的切片，用一两句话总结模型在其上的表现特点): \n",
    "\n",
    "1. `with_tag`: 有标签的推文（含有\"#\"）\n",
    "   - Roberta: 0.63; GPT-2: 0.38\n",
    "   - 两个模型在含标签推文上的表现都与整体水平相近。这可能是因为标签(#)往往简短且信息量有限, 因而模型从中获得的额外情感线索也较少.\n",
    "2. `with_postive`: 有强烈正向情感的词语 (含有'love', 'happy', 'fantastic')\n",
    "   - Roberta: 0.76; GPT-2: 0.69\n",
    "   - 明确的正向情感词汇为模型提供了强信号，Roberta在识别正向情感上表现优秀，GPT-2也有显著提升.\n",
    "3. `short_sentence` 短文本推文 (input_length < 50)\n",
    "   - Roberta: 0.71; GPT-2: 0.52\n",
    "   - Roberta在短文本上表现出色，超过整体准确率，说明其能有效捕捉简短文本的情感。GPT-2在短文本上也有较好表现，可能是因为输入简洁，干扰信息少. 猜测也可能是短句数据中通常情感更为直接明确，模型更易于做出正确判断.\n",
    "4. `long_sentence` 长文本推文 (input_length > 100)\n",
    "   - Roberta: 0.60; GPT-2: 0.25\n",
    "   - 在长文本上, 两个模型的表现均低于整体水平. 可能是模型在处理包含更多上下文信息的长文本时遇到困难.\n",
    "5. `neutral_sentiment` 中性情感推文 (label == \"neutral\")\n",
    "   - Roberta: 0.61; GPT-2: 0.30\n",
    "   - 中性文本往往缺乏明显情感线索, 两个模型表现均低于整体水平.\t"
   ]
  },
  {
   "cell_type": "markdown",
   "id": "c3fe90b1",
   "metadata": {},
   "source": [
    "![result](screenshot.png)"
   ]
  },
  {
   "cell_type": "markdown",
   "id": "1f7b8cda",
   "metadata": {},
   "source": [
    "## 提交：\n",
    "1. 本 notebook，保留你书写的代码与输出结果\n",
    "2. 一张截图，显示你创建的 5 个切片"
   ]
  }
 ],
 "metadata": {
  "kernelspec": {
   "display_name": "base",
   "language": "python",
   "name": "python3"
  },
  "language_info": {
   "codemirror_mode": {
    "name": "ipython",
    "version": 3
   },
   "file_extension": ".py",
   "mimetype": "text/x-python",
   "name": "python",
   "nbconvert_exporter": "python",
   "pygments_lexer": "ipython3",
   "version": "3.10.13"
  }
 },
 "nbformat": 4,
 "nbformat_minor": 5
}
