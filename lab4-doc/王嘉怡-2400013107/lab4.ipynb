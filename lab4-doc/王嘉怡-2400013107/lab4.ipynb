{
 "cells": [
  {
   "cell_type": "markdown",
   "id": "b5450c2f",
   "metadata": {},
   "source": [
    "## 步骤 1 - 安装所需的 Python 环境及包"
   ]
  },
  {
   "cell_type": "markdown",
   "id": "ad92d6a2",
   "metadata": {},
   "source": [
    "## 步骤 2 - 初步读入并清洗数据"
   ]
  },
  {
   "cell_type": "code",
   "execution_count": null,
   "id": "038ba23a",
   "metadata": {},
   "outputs": [],
   "source": [
    "import pandas as pd\n",
    "\n",
    "df = pd.read_csv(\"./tweets.csv\")\n",
    "df.head(20)"
   ]
  },
  {
   "cell_type": "markdown",
   "id": "56079382",
   "metadata": {},
   "source": [
    "我们可以发现，Roberta 使用 0/1/2 来分别代表 negative/neutral/positive，而 gpt2 使用 LABEL_0/1/2 来代表 negative/neutral/positive。为了方便后续处理，我们需要进行清理。"
   ]
  },
  {
   "cell_type": "code",
   "execution_count": null,
   "id": "43d75b48",
   "metadata": {},
   "outputs": [],
   "source": [
    "def label_map_gpt2(x):\n",
    "    #TODO\n",
    "    if x == \"LABEL_0\":\n",
    "        x = \"negative\"\n",
    "    elif x == \"LABEL_1\":\n",
    "        x = \"neutral\"\n",
    "    elif x == \"LABEL_2\":\n",
    "        x = \"positive\"\n",
    "    else:\n",
    "        x = \"invalid\"\n",
    "    return x\n",
    "    \n",
    "def label_map_roberta(x):\n",
    "    #TODO\n",
    "    if x == \"0\":\n",
    "        x = \"negative\"\n",
    "    elif x == \"1\":\n",
    "        x = \"neutral\"\n",
    "    elif x == \"2\":\n",
    "        x = \"positive\"\n",
    "    else:\n",
    "        x = \"invalid\"\n",
    "    return x\n",
    "\n",
    "df['gpt2'] = df['gpt2'].map(label_map_gpt2)\n",
    "df['roberta'] = df['roberta'].map(label_map_roberta)\n",
    "df.head(20)"
   ]
  },
  {
   "cell_type": "markdown",
   "id": "e0cce6cf",
   "metadata": {},
   "source": [
    "Zeno 处理要求我们增加 input_length 列与 id 列，对数据进行进一步处理"
   ]
  },
  {
   "cell_type": "code",
   "execution_count": null,
   "id": "78e22ca0",
   "metadata": {},
   "outputs": [],
   "source": [
    "df[\"input_length\"] = df[\"text\"].str.len()\n",
    "df['id'] = df.index\n",
    "df.head(20)"
   ]
  },
  {
   "cell_type": "markdown",
   "id": "5ce485ee",
   "metadata": {},
   "source": [
    "## 步骤 3 - 启动 Zeno 进行模型分析"
   ]
  },
  {
   "cell_type": "markdown",
   "id": "89511417",
   "metadata": {},
   "source": [
    "创建一个 [Zeno](https://hub.zenoml.com/account) 账号，阅读如下代码并正确运行，运行完成后你将在个人账户下看到创建的 projects"
   ]
  },
  {
   "cell_type": "code",
   "execution_count": null,
   "id": "9e43f0fe",
   "metadata": {},
   "outputs": [],
   "source": [
    "from zeno_client import ZenoClient, ZenoMetric\n",
    "import pandas as pd\n",
    "\n",
    "client = ZenoClient(\"zen_kkuXl7D7TdHaNNVySJFS-NBTKNCff0DvSd-JGjeICbI\")\n",
    "\n",
    "# 创建项目\n",
    "proj = client.create_project(\n",
    "    name=\"Twitter Sentiment Analysis\",\n",
    "    view=\"text-classification\",\n",
    "    metrics=[\n",
    "        ZenoMetric(name=\"roberta_accuracy\", type=\"mean\", columns=[\"roberta_correct\"]),\n",
    "        #TODO 类比上述方法，为 gpt2 模型创建相应的评估指标\n",
    "        ZenoMetric(name=\"gpt2_accuracy\", type=\"mean\", columns=[\"gpt2_correct\"])\n",
    "    ]\n",
    ")\n",
    "\n",
    "proj.upload_dataset(df, id_column=\"id\", data_column='text', label_column=\"label\")\n",
    "\n",
    "# 为 Roberta 模型分别创建系统数据框\n",
    "df_roberta = pd.DataFrame({\n",
    "    \"id\": df[\"id\"],\n",
    "    \"output\": df[\"roberta\"],\n",
    "    \"roberta_correct\": (df[\"roberta\"] == df[\"label\"]).astype(int)\n",
    "})\n",
    "proj.upload_system(df_roberta, name=\"Roberta\", id_column=\"id\", output_column=\"output\")\n",
    "#TODO 类比上述方法，为 gpt2 模型创建系统数据框\n",
    "df_gpt2 = pd.DataFrame({\n",
    "    \"id\": df[\"id\"],\n",
    "    \"output\": df[\"gpt2\"],\n",
    "    \"gpt2_correct\": (df[\"gpt2\"] == df[\"label\"]).astype(int)\n",
    "})\n",
    "proj.upload_system(df_gpt2, name=\"gpt2\", id_column=\"id\", output_column=\"output\")\n"
   ]
  },
  {
   "cell_type": "markdown",
   "id": "468a7539",
   "metadata": {},
   "source": [
    "## 步骤 4 - 创建分析切片并进一步分析"
   ]
  },
  {
   "cell_type": "markdown",
   "id": "78ea7993",
   "metadata": {},
   "source": [
    "你一共需要利用 Zeno 提供的接口创建 5 个不同的切片。\n",
    "\n",
    "你可以首先创建两个切片：\n",
    "\n",
    "1. 有标签的推文（含有\"#\"）\n",
    "- 表现特点：标签内容会对模型输出产生比较大的影响。准确率和全部数据集上相近（gpt2略高，roberta略低）。\n",
    "2. 有强烈正向情感的词语（如 love），你可以自行决定一个词\n",
    "- 表现特点：模型输出强烈倾向于\"positive\"，少数情况是\"netrual\"，不会出现\"negative\"。准确率显著高于全部数据集上。"
   ]
  },
  {
   "cell_type": "markdown",
   "id": "359272de",
   "metadata": {},
   "source": [
    "创建切片可以直接通过点击 \"+\" 按钮来进行，可以通过基本值匹配或正则表达式的方式创建，具体用法参见[文档](https://zenoml.com/docs/intro/)\n",
    "\n",
    "![image.png](image.png)\n",
    "\n",
    "有关 Zeno 中更多有趣的用法可以参考 Zeno 仓库中的 [README](https://github.com/zeno-ml/zeno)。"
   ]
  },
  {
   "cell_type": "markdown",
   "id": "f3cdec4b",
   "metadata": {},
   "source": [
    "在此处写下你想要另外创建的三个切片，并在个人 Zeno 账户中创建，针对每一个创建的切片，用一两句话总结模型在其上的表现特点：\n",
    "\n",
    "3. 有不可阅读的符号的推文（含有“”）\n",
    "- 表现特点：数据集中label有问题，gpt2存在输出非label的情况（标记为“invalid”）。准确率低于整体数据集上，数据集也出了些问题。\n",
    "4. 长度小于50的推文\n",
    "- 表现特点：准确率显著高于整体数据集。模型似乎更倾向于\"positive\"和\"negative\"\n",
    "5. 长度大于120的推文\n",
    "- 表现特点：准确率低于整体数据集。"
   ]
  },
  {
   "cell_type": "markdown",
   "id": "1f7b8cda",
   "metadata": {},
   "source": [
    "## 提交：\n",
    "1. 本 notebook，保留你书写的代码与输出结果\n",
    "2. 一张截图，显示你创建的 5 个切片"
   ]
  }
 ],
 "metadata": {
  "kernelspec": {
   "display_name": "Python 3",
   "language": "python",
   "name": "python3"
  },
  "language_info": {
   "codemirror_mode": {
    "name": "ipython",
    "version": 3
   },
   "file_extension": ".py",
   "mimetype": "text/x-python",
   "name": "python",
   "nbconvert_exporter": "python",
   "pygments_lexer": "ipython3",
   "version": "3.13.7"
  }
 },
 "nbformat": 4,
 "nbformat_minor": 5
}
