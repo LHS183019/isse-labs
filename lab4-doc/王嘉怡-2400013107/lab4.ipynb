{
 "cells": [
  {
   "cell_type": "markdown",
   "id": "b5450c2f",
   "metadata": {},
   "source": [
    "## 步骤 1 - 安装所需的 Python 环境及包"
   ]
  },
  {
   "cell_type": "markdown",
   "id": "ad92d6a2",
   "metadata": {},
   "source": [
    "## 步骤 2 - 初步读入并清洗数据"
   ]
  },
  {
   "cell_type": "code",
   "execution_count": null,
   "id": "038ba23a",
   "metadata": {},
   "outputs": [],
   "source": [
    "import pandas as pd\n",
    "\n",
    "df = pd.read_csv(\"./tweets.csv\")\n",
    "df.head(5)"
   ]
  },
  {
   "cell_type": "markdown",
   "id": "56079382",
   "metadata": {},
   "source": [
    "我们可以发现，Roberta 使用 0/1/2 来分别代表 negative/neutral/positive，而 gpt2 使用 LABEL_0/1/2 来代表 negative/neutral/positive。为了方便后续处理，我们需要进行清理。"
   ]
  },
  {
   "cell_type": "code",
   "execution_count": null,
   "id": "43d75b48",
   "metadata": {},
   "outputs": [],
   "source": [
    "def label_map_gpt2(x):\n",
    "    #TODO\n",
    "    return x\n",
    "    \n",
    "def label_map_roberta(x):\n",
    "    #TODO\n",
    "    return x\n",
    "\n",
    "df['gpt2'] = df['gpt2'].map(label_map_gpt2)\n",
    "df['roberta'] = df['roberta'].map(label_map_roberta)\n",
    "df.head(5)"
   ]
  },
  {
   "cell_type": "markdown",
   "id": "e0cce6cf",
   "metadata": {},
   "source": [
    "Zeno 处理要求我们增加 input_length 列与 id 列，对数据进行进一步处理"
   ]
  },
  {
   "cell_type": "code",
   "execution_count": null,
   "id": "78e22ca0",
   "metadata": {},
   "outputs": [],
   "source": [
    "df[\"input_length\"] = df[\"text\"].str.len()\n",
    "df['id'] = df.index\n",
    "df.head(5)"
   ]
  },
  {
   "cell_type": "markdown",
   "id": "5ce485ee",
   "metadata": {},
   "source": [
    "## 步骤 3 - 启动 Zeno 进行模型分析"
   ]
  },
  {
   "cell_type": "markdown",
   "id": "89511417",
   "metadata": {},
   "source": [
    "创建一个 [Zeno](https://hub.zenoml.com/account) 账号，阅读如下代码并正确运行，运行完成后你将在个人账户下看到创建的 projects"
   ]
  },
  {
   "cell_type": "code",
   "execution_count": null,
   "id": "9e43f0fe",
   "metadata": {},
   "outputs": [],
   "source": [
    "from zeno_client import ZenoClient, ZenoMetric\n",
    "import pandas as pd\n",
    "\n",
    "client = ZenoClient(YOUR_API_KEY_HERE)\n",
    "\n",
    "# 创建项目\n",
    "proj = client.create_project(\n",
    "    name=\"Twitter Sentiment Analysis\",\n",
    "    view=\"text-classification\",\n",
    "    metrics=[\n",
    "        ZenoMetric(name=\"roberta_accuracy\", type=\"mean\", columns=[\"roberta_correct\"]),\n",
    "        #TODO 类比上述方法，为 gpt2 模型创建相应的评估指标\n",
    "    ]\n",
    ")\n",
    "\n",
    "proj.upload_dataset(df, id_column=\"id\", data_column='text', label_column=\"label\")\n",
    "\n",
    "# 为 Roberta 模型分别创建系统数据框\n",
    "df_roberta = pd.DataFrame({\n",
    "    \"id\": df[\"id\"],\n",
    "    \"output\": df[\"roberta\"],\n",
    "    \"roberta_correct\": (df[\"roberta\"] == df[\"label\"]).astype(int)\n",
    "})\n",
    "proj.upload_system(df_roberta, name=\"Roberta\", id_column=\"id\", output_column=\"output\")\n",
    "#TODO 类比上述方法，为 gpt2 模型创建系统数据框\n"
   ]
  },
  {
   "cell_type": "markdown",
   "id": "468a7539",
   "metadata": {},
   "source": [
    "## 步骤 4 - 创建分析切片并进一步分析"
   ]
  },
  {
   "cell_type": "markdown",
   "id": "78ea7993",
   "metadata": {},
   "source": [
    "你一共需要利用 Zeno 提供的接口创建 5 个不同的切片。\n",
    "\n",
    "你可以首先创建两个切片：\n",
    "\n",
    "1. 有标签的推文（含有\"#\"）\n",
    "2. 有强烈正向情感的词语（如 love），你可以自行决定一个词"
   ]
  },
  {
   "cell_type": "markdown",
   "id": "359272de",
   "metadata": {},
   "source": [
    "创建切片可以直接通过点击 \"+\" 按钮来进行，可以通过基本值匹配或正则表达式的方式创建，具体用法参见[文档](https://zenoml.com/docs/intro/)\n",
    "\n",
    "![image.png](images/image.png)\n",
    "\n",
    "有关 Zeno 中更多有趣的用法可以参考 Zeno 仓库中的 [README](https://github.com/zeno-ml/zeno)。"
   ]
  },
  {
   "cell_type": "markdown",
   "id": "f3cdec4b",
   "metadata": {},
   "source": [
    "在此处写下你想要另外创建的三个切片，并在个人 Zeno 账户中创建，针对每一个创建的切片，用一两句话总结模型在其上的表现特点：\n",
    "\n",
    "3. TODO\n",
    "4. TODO\n",
    "5. TODO"
   ]
  },
  {
   "cell_type": "markdown",
   "id": "1f7b8cda",
   "metadata": {},
   "source": [
    "## 提交：\n",
    "1. 本 notebook，保留你书写的代码与输出结果\n",
    "2. 一张截图，显示你创建的 5 个切片"
   ]
  }
 ],
 "metadata": {
  "kernelspec": {
   "display_name": "Python 3",
   "language": "python",
   "name": "python3"
  },
  "language_info": {
   "codemirror_mode": {
    "name": "ipython",
    "version": 3
   },
   "file_extension": ".py",
   "mimetype": "text/x-python",
   "name": "python",
   "nbconvert_exporter": "python",
   "pygments_lexer": "ipython3",
   "version": "3.12.10"
  }
 },
 "nbformat": 4,
 "nbformat_minor": 5
}
